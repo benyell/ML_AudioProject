{
 "cells": [
  {
   "cell_type": "code",
   "execution_count": 18,
   "id": "f5d4d94b-8079-4a13-8f3e-8ce345822aac",
   "metadata": {},
   "outputs": [],
   "source": [
    "import os\n",
    "import numpy as np\n",
    "import pandas as pd\n",
    "import librosa\n",
    "import matplotlib.pyplot as plt\n",
    "import tensorflow as tf\n",
    "from tensorflow.keras import layers, Model\n",
    "from sklearn.model_selection import train_test_split"
   ]
  },
  {
   "cell_type": "code",
   "execution_count": 20,
   "id": "217ff6cd-58be-4f98-9dc3-248473496894",
   "metadata": {},
   "outputs": [],
   "source": [
    "# 2. Model Creation\n",
    "# ------------------\n",
    "def create_wavenet_model(input_audio_shape, conditioning_feature_shape):\n",
    "    \"\"\"Creates a WaveNet-inspired model for audio generation.\"\"\"\n",
    "    # Audio Input\n",
    "    audio_input = layers.Input(shape=input_audio_shape, name=\"audio_input\")\n",
    "\n",
    "    # Conditioning Features Input\n",
    "    conditioning_input = layers.Input(shape=conditioning_feature_shape, name=\"conditioning_input\")\n",
    "\n",
    "    # Expand conditioning input along the time axis\n",
    "    conditioning = layers.Dense(input_audio_shape[0], activation=\"relu\")(conditioning_input)\n",
    "    conditioning = layers.Reshape((input_audio_shape[0], 1))(conditioning)\n",
    "\n",
    "    # Reshape audio input to match the concatenation dimensions\n",
    "    audio_input_reshaped = layers.Reshape((input_audio_shape[0], 1))(audio_input)\n",
    "\n",
    "    # Concatenate audio input and conditioning features\n",
    "    x = layers.Concatenate()([audio_input_reshaped, conditioning])\n",
    "\n",
    "    # Add dilated convolution layers with residual connections\n",
    "    residual = x\n",
    "    skip_connections = []\n",
    "\n",
    "    for dilation_rate in [1, 2, 4, 8, 16, 32]:\n",
    "        x = layers.Conv1D(\n",
    "            filters=64,\n",
    "            kernel_size=3,\n",
    "            dilation_rate=dilation_rate,\n",
    "            padding=\"causal\",\n",
    "            activation=\"relu\",\n",
    "            kernel_regularizer=tf.keras.regularizers.l2(0.01)\n",
    "        )(x)\n",
    "\n",
    "        # Create skip connection\n",
    "        skip_connections.append(x)\n",
    "\n",
    "        # Ensure the residual connection matches the shape of `x`\n",
    "        if residual.shape[-1] != x.shape[-1]:\n",
    "            residual = layers.Conv1D(\n",
    "                filters=x.shape[-1],\n",
    "                kernel_size=1,\n",
    "                padding=\"same\",\n",
    "                activation=\"linear\"\n",
    "            )(residual)\n",
    "\n",
    "        x = layers.Add()([x, residual])  # Add residual connection\n",
    "\n",
    "    # Sum all skip connections\n",
    "    x = layers.Add()(skip_connections)\n",
    "\n",
    "    # Final output layers\n",
    "    x = layers.Activation(\"relu\")(x)\n",
    "    x = layers.Conv1D(filters=256, kernel_size=1, activation=\"relu\")(x)\n",
    "    x = layers.Conv1D(filters=1, kernel_size=1, activation=\"linear\")(x)\n",
    "\n",
    "    # Create the model\n",
    "    model = Model(inputs=[audio_input, conditioning_input], outputs=x, name=\"WaveNet\")\n",
    "    return model"
   ]
  },
  {
   "cell_type": "code",
   "execution_count": 21,
   "id": "6acae28b-d0e2-4279-8cbb-01d6236da660",
   "metadata": {},
   "outputs": [],
   "source": [
    "# 3. Model Training\n",
    "# ------------------\n",
    "def train_wavenet_model(X_audio_train, X_features_train, y_train, \n",
    "                        X_audio_val, X_features_val, y_val, \n",
    "                        input_audio_shape, conditioning_feature_shape):\n",
    "    \"\"\"Train the WaveNet model with the provided dataset.\"\"\"\n",
    "    # Create WaveNet Model\n",
    "    wavenet_model = create_wavenet_model(input_audio_shape, conditioning_feature_shape)\n",
    "\n",
    "    # Compile the model\n",
    "    wavenet_model.compile(\n",
    "        optimizer=tf.keras.optimizers.Adam(learning_rate=0.001),\n",
    "        loss=\"mean_squared_error\",  # MSE for waveform prediction\n",
    "        metrics=[\"mae\"]  # Mean Absolute Error\n",
    "    )\n",
    "\n",
    "    # Train the model\n",
    "    history = wavenet_model.fit(\n",
    "        [X_audio_train, X_features_train], y_train,\n",
    "        validation_data=([X_audio_val, X_features_val], y_val),\n",
    "        epochs=30,\n",
    "        batch_size=8,\n",
    "        verbose=1\n",
    "    )\n",
    "\n",
    "    # Plot Training History\n",
    "    plt.figure(figsize=(10, 5))\n",
    "    plt.plot(history.history['mae'], label='Train MAE')\n",
    "    plt.plot(history.history['val_mae'], label='Validation MAE')\n",
    "    plt.title('Model Training Progress')\n",
    "    plt.xlabel('Epoch')\n",
    "    plt.ylabel('Mean Absolute Error')\n",
    "    plt.legend()\n",
    "    plt.show()\n",
    "\n",
    "    return wavenet_model"
   ]
  },
  {
   "cell_type": "code",
   "execution_count": 22,
   "id": "e04cdc06-6c21-4f43-88bf-771199e03b57",
   "metadata": {},
   "outputs": [],
   "source": [
    "# 4. Model Evaluation\n",
    "# --------------------\n",
    "def evaluate_wavenet_model(wavenet_model, X_audio_test, X_features_test, y_test):\n",
    "    \"\"\"Evaluate the WaveNet model on the test dataset.\"\"\"\n",
    "    # Evaluate the model\n",
    "    test_loss, test_mae = wavenet_model.evaluate([X_audio_test, X_features_test], y_test)\n",
    "    print(f\"Test MAE: {test_mae:.2f}\")\n",
    "    print(f\"Test Loss: {test_loss:.2f}\")\n"
   ]
  },
  {
   "cell_type": "code",
   "execution_count": 23,
   "id": "fd612993-a1ef-4a0a-961c-31274d4e1244",
   "metadata": {},
   "outputs": [],
   "source": [
    "# Load processed dataset\n",
    "# Load data using relative paths\n",
    "data_dir = \"../../data/processed/wavenet_data/\"\n",
    "X_audio_train = np.load(os.path.join(data_dir, \"X_audio_train.npy\"))\n",
    "X_audio_val = np.load(os.path.join(data_dir, \"X_audio_val.npy\"))\n",
    "X_audio_test = np.load(os.path.join(data_dir, \"X_audio_test.npy\"))\n",
    "\n",
    "X_features_train = np.load(os.path.join(data_dir, \"X_features_train.npy\"))\n",
    "X_features_val = np.load(os.path.join(data_dir, \"X_features_val.npy\"))\n",
    "X_features_test = np.load(os.path.join(data_dir, \"X_features_test.npy\"))\n",
    "\n",
    "y_train = np.load(os.path.join(data_dir, \"y_train.npy\"))\n",
    "y_val = np.load(os.path.join(data_dir, \"y_val.npy\"))\n",
    "y_test = np.load(os.path.join(data_dir, \"y_test.npy\"))\n",
    "\n",
    "# Convert to numpy arrays\n",
    "X_audio_train = np.array(X_audio_train)\n",
    "X_audio_val = np.array(X_audio_val)\n",
    "X_audio_test = np.array(X_audio_test)\n",
    "\n",
    "X_features_train = np.array(X_features_train)\n",
    "X_features_val = np.array(X_features_val)\n",
    "X_features_test = np.array(X_features_test)\n",
    "\n",
    "y_train = np.array(y_train)\n",
    "y_val = np.array(y_val)\n",
    "y_test = np.array(y_test)"
   ]
  },
  {
   "cell_type": "code",
   "execution_count": 25,
   "id": "a9713024-aefe-4d61-bb81-e03553d2fa99",
   "metadata": {},
   "outputs": [
    {
     "name": "stdout",
     "output_type": "stream",
     "text": [
      "Epoch 1/30\n",
      "\u001b[1m74/74\u001b[0m \u001b[32m━━━━━━━━━━━━━━━━━━━━\u001b[0m\u001b[37m\u001b[0m \u001b[1m102s\u001b[0m 1s/step - loss: 139.5463 - mae: 6.9899 - val_loss: 14.5983 - val_mae: 2.7051\n",
      "Epoch 2/30\n",
      "\u001b[1m74/74\u001b[0m \u001b[32m━━━━━━━━━━━━━━━━━━━━\u001b[0m\u001b[37m\u001b[0m \u001b[1m92s\u001b[0m 1s/step - loss: 15.8716 - mae: 2.8438 - val_loss: 13.8929 - val_mae: 2.6695\n",
      "Epoch 3/30\n",
      "\u001b[1m74/74\u001b[0m \u001b[32m━━━━━━━━━━━━━━━━━━━━\u001b[0m\u001b[37m\u001b[0m \u001b[1m86s\u001b[0m 1s/step - loss: 13.8271 - mae: 2.6083 - val_loss: 12.3040 - val_mae: 2.4708\n",
      "Epoch 4/30\n",
      "\u001b[1m74/74\u001b[0m \u001b[32m━━━━━━━━━━━━━━━━━━━━\u001b[0m\u001b[37m\u001b[0m \u001b[1m112s\u001b[0m 2s/step - loss: 13.0770 - mae: 2.5154 - val_loss: 12.5918 - val_mae: 2.5057\n",
      "Epoch 5/30\n",
      "\u001b[1m74/74\u001b[0m \u001b[32m━━━━━━━━━━━━━━━━━━━━\u001b[0m\u001b[37m\u001b[0m \u001b[1m133s\u001b[0m 1s/step - loss: 12.5040 - mae: 2.4316 - val_loss: 13.6461 - val_mae: 2.6787\n",
      "Epoch 6/30\n",
      "\u001b[1m74/74\u001b[0m \u001b[32m━━━━━━━━━━━━━━━━━━━━\u001b[0m\u001b[37m\u001b[0m \u001b[1m92s\u001b[0m 1s/step - loss: 12.7275 - mae: 2.5326 - val_loss: 13.1555 - val_mae: 2.6147\n",
      "Epoch 7/30\n",
      "\u001b[1m74/74\u001b[0m \u001b[32m━━━━━━━━━━━━━━━━━━━━\u001b[0m\u001b[37m\u001b[0m \u001b[1m90s\u001b[0m 1s/step - loss: 12.1066 - mae: 2.3846 - val_loss: 12.8885 - val_mae: 2.5732\n",
      "Epoch 8/30\n",
      "\u001b[1m74/74\u001b[0m \u001b[32m━━━━━━━━━━━━━━━━━━━━\u001b[0m\u001b[37m\u001b[0m \u001b[1m90s\u001b[0m 1s/step - loss: 11.9890 - mae: 2.3899 - val_loss: 11.6286 - val_mae: 2.4095\n",
      "Epoch 9/30\n",
      "\u001b[1m74/74\u001b[0m \u001b[32m━━━━━━━━━━━━━━━━━━━━\u001b[0m\u001b[37m\u001b[0m \u001b[1m101s\u001b[0m 1s/step - loss: 11.7433 - mae: 2.3714 - val_loss: 11.9385 - val_mae: 2.4268\n",
      "Epoch 10/30\n",
      "\u001b[1m74/74\u001b[0m \u001b[32m━━━━━━━━━━━━━━━━━━━━\u001b[0m\u001b[37m\u001b[0m \u001b[1m89s\u001b[0m 1s/step - loss: 11.7241 - mae: 2.3524 - val_loss: 11.7190 - val_mae: 2.4174\n",
      "Epoch 11/30\n",
      "\u001b[1m74/74\u001b[0m \u001b[32m━━━━━━━━━━━━━━━━━━━━\u001b[0m\u001b[37m\u001b[0m \u001b[1m89s\u001b[0m 1s/step - loss: 11.9705 - mae: 2.4012 - val_loss: 11.6218 - val_mae: 2.4166\n",
      "Epoch 12/30\n",
      "\u001b[1m74/74\u001b[0m \u001b[32m━━━━━━━━━━━━━━━━━━━━\u001b[0m\u001b[37m\u001b[0m \u001b[1m95s\u001b[0m 1s/step - loss: 12.0941 - mae: 2.4176 - val_loss: 12.1473 - val_mae: 2.4542\n",
      "Epoch 13/30\n",
      "\u001b[1m74/74\u001b[0m \u001b[32m━━━━━━━━━━━━━━━━━━━━\u001b[0m\u001b[37m\u001b[0m \u001b[1m141s\u001b[0m 1s/step - loss: 12.3013 - mae: 2.4687 - val_loss: 11.6086 - val_mae: 2.4174\n",
      "Epoch 14/30\n",
      "\u001b[1m74/74\u001b[0m \u001b[32m━━━━━━━━━━━━━━━━━━━━\u001b[0m\u001b[37m\u001b[0m \u001b[1m101s\u001b[0m 1s/step - loss: 12.0486 - mae: 2.4374 - val_loss: 13.5128 - val_mae: 2.7475\n",
      "Epoch 15/30\n",
      "\u001b[1m74/74\u001b[0m \u001b[32m━━━━━━━━━━━━━━━━━━━━\u001b[0m\u001b[37m\u001b[0m \u001b[1m93s\u001b[0m 1s/step - loss: 11.7746 - mae: 2.4021 - val_loss: 11.7397 - val_mae: 2.4227\n",
      "Epoch 16/30\n",
      "\u001b[1m74/74\u001b[0m \u001b[32m━━━━━━━━━━━━━━━━━━━━\u001b[0m\u001b[37m\u001b[0m \u001b[1m89s\u001b[0m 1s/step - loss: 12.5225 - mae: 2.5308 - val_loss: 11.6402 - val_mae: 2.4202\n",
      "Epoch 17/30\n",
      "\u001b[1m74/74\u001b[0m \u001b[32m━━━━━━━━━━━━━━━━━━━━\u001b[0m\u001b[37m\u001b[0m \u001b[1m90s\u001b[0m 1s/step - loss: 11.7650 - mae: 2.4251 - val_loss: 11.4728 - val_mae: 2.4163\n",
      "Epoch 18/30\n",
      "\u001b[1m74/74\u001b[0m \u001b[32m━━━━━━━━━━━━━━━━━━━━\u001b[0m\u001b[37m\u001b[0m \u001b[1m162s\u001b[0m 1s/step - loss: 11.9062 - mae: 2.4187 - val_loss: 11.7703 - val_mae: 2.4295\n",
      "Epoch 19/30\n",
      "\u001b[1m74/74\u001b[0m \u001b[32m━━━━━━━━━━━━━━━━━━━━\u001b[0m\u001b[37m\u001b[0m \u001b[1m128s\u001b[0m 2s/step - loss: 11.7611 - mae: 2.3986 - val_loss: 11.1221 - val_mae: 2.4005\n",
      "Epoch 20/30\n",
      "\u001b[1m74/74\u001b[0m \u001b[32m━━━━━━━━━━━━━━━━━━━━\u001b[0m\u001b[37m\u001b[0m \u001b[1m104s\u001b[0m 1s/step - loss: 11.4633 - mae: 2.3411 - val_loss: 11.3183 - val_mae: 2.4154\n",
      "Epoch 21/30\n",
      "\u001b[1m74/74\u001b[0m \u001b[32m━━━━━━━━━━━━━━━━━━━━\u001b[0m\u001b[37m\u001b[0m \u001b[1m125s\u001b[0m 2s/step - loss: 11.7623 - mae: 2.4503 - val_loss: 11.8429 - val_mae: 2.4609\n",
      "Epoch 22/30\n",
      "\u001b[1m74/74\u001b[0m \u001b[32m━━━━━━━━━━━━━━━━━━━━\u001b[0m\u001b[37m\u001b[0m \u001b[1m134s\u001b[0m 2s/step - loss: 11.8051 - mae: 2.4353 - val_loss: 11.5201 - val_mae: 2.4233\n",
      "Epoch 23/30\n",
      "\u001b[1m74/74\u001b[0m \u001b[32m━━━━━━━━━━━━━━━━━━━━\u001b[0m\u001b[37m\u001b[0m \u001b[1m137s\u001b[0m 2s/step - loss: 10.8724 - mae: 2.2581 - val_loss: 11.6282 - val_mae: 2.4309\n",
      "Epoch 24/30\n",
      "\u001b[1m74/74\u001b[0m \u001b[32m━━━━━━━━━━━━━━━━━━━━\u001b[0m\u001b[37m\u001b[0m \u001b[1m127s\u001b[0m 2s/step - loss: 11.1179 - mae: 2.2936 - val_loss: 11.2841 - val_mae: 2.4192\n",
      "Epoch 25/30\n",
      "\u001b[1m74/74\u001b[0m \u001b[32m━━━━━━━━━━━━━━━━━━━━\u001b[0m\u001b[37m\u001b[0m \u001b[1m135s\u001b[0m 2s/step - loss: 10.7603 - mae: 2.2579 - val_loss: 11.5618 - val_mae: 2.4352\n",
      "Epoch 26/30\n",
      "\u001b[1m74/74\u001b[0m \u001b[32m━━━━━━━━━━━━━━━━━━━━\u001b[0m\u001b[37m\u001b[0m \u001b[1m116s\u001b[0m 1s/step - loss: 11.3107 - mae: 2.3655 - val_loss: 10.9592 - val_mae: 2.4095\n",
      "Epoch 27/30\n",
      "\u001b[1m74/74\u001b[0m \u001b[32m━━━━━━━━━━━━━━━━━━━━\u001b[0m\u001b[37m\u001b[0m \u001b[1m106s\u001b[0m 1s/step - loss: 10.6638 - mae: 2.3093 - val_loss: 11.5098 - val_mae: 2.4377\n",
      "Epoch 28/30\n",
      "\u001b[1m74/74\u001b[0m \u001b[32m━━━━━━━━━━━━━━━━━━━━\u001b[0m\u001b[37m\u001b[0m \u001b[1m151s\u001b[0m 2s/step - loss: 11.6514 - mae: 2.4528 - val_loss: 11.4842 - val_mae: 2.4376\n",
      "Epoch 29/30\n",
      "\u001b[1m74/74\u001b[0m \u001b[32m━━━━━━━━━━━━━━━━━━━━\u001b[0m\u001b[37m\u001b[0m \u001b[1m95s\u001b[0m 1s/step - loss: 11.6771 - mae: 2.4618 - val_loss: 11.6047 - val_mae: 2.4755\n",
      "Epoch 30/30\n",
      "\u001b[1m74/74\u001b[0m \u001b[32m━━━━━━━━━━━━━━━━━━━━\u001b[0m\u001b[37m\u001b[0m \u001b[1m95s\u001b[0m 1s/step - loss: 11.0282 - mae: 2.3897 - val_loss: 11.3233 - val_mae: 2.4279\n"
     ]
    },
    {
     "data": {
      "image/png": "[encoded data removed]",
      "text/plain": [
       "<Figure size 1000x500 with 1 Axes>"
      ]
     },
     "metadata": {},
     "output_type": "display_data"
    }
   ],
   "source": [
    "# Define input shapes\n",
    "input_audio_shape = (8000,)  # 1-second chunks\n",
    "conditioning_feature_shape = (X_features_train.shape[1],)  # Number of conditioning features\n",
    "\n",
    "# Train the model\n",
    "wavenet_model = train_wavenet_model(\n",
    "    X_audio_train, X_features_train, y_train, \n",
    "    X_audio_val, X_features_val, y_val, \n",
    "    input_audio_shape, conditioning_feature_shape\n",
    ")\n"
   ]
  },
  {
   "cell_type": "code",
   "execution_count": 26,
   "id": "170a420f-6001-4ef6-9293-6e494c56132a",
   "metadata": {},
   "outputs": [
    {
     "name": "stdout",
     "output_type": "stream",
     "text": [
      "\u001b[1m4/4\u001b[0m \u001b[32m━━━━━━━━━━━━━━━━━━━━\u001b[0m\u001b[37m\u001b[0m \u001b[1m6s\u001b[0m 1s/step - loss: 12.0944 - mae: 2.4372\n",
      "Test MAE: 2.46\n",
      "Test Loss: 12.17\n"
     ]
    }
   ],
   "source": [
    "# Evaluate the trained model\n",
    "evaluate_wavenet_model(wavenet_model, X_audio_test, X_features_test, y_test)\n"
   ]
  },
  {
   "cell_type": "code",
   "execution_count": 27,
   "id": "3e9ebbfa-101d-45da-8784-1bcd7440ebf2",
   "metadata": {},
   "outputs": [
    {
     "name": "stderr",
     "output_type": "stream",
     "text": [
      "WARNING:absl:You are saving your model as an HDF5 file via `model.save()` or `keras.saving.save_model(model)`. This file format is considered legacy. We recommend using instead the native Keras format, e.g. `model.save('my_model.keras')` or `keras.saving.save_model(model, 'my_model.keras')`. \n"
     ]
    },
    {
     "name": "stdout",
     "output_type": "stream",
     "text": [
      "Model saved to ../../data/models/wavenet_model2.h5\n"
     ]
    }
   ],
   "source": [
    "# Save the entire model to a file\n",
    "data_dir = \"../../data/models/\"\n",
    "model_save_path = os.path.join(data_dir, \"wavenet_model2.h5\")  # Specify the desired path and file name\n",
    "wavenet_model.save(model_save_path)\n",
    "print(f\"Model saved to {model_save_path}\")"
   ]
  },
  {
   "cell_type": "code",
   "execution_count": null,
   "id": "3b36cc0b-d381-40a4-bfdb-fdcf66a9e943",
   "metadata": {},
   "outputs": [],
   "source": []
  }
 ],
 "metadata": {
  "kernelspec": {
   "display_name": "Python 3 (ipykernel)",
   "language": "python",
   "name": "python3"
  },
  "language_info": {
   "codemirror_mode": {
    "name": "ipython",
    "version": 3
   },
   "file_extension": ".py",
   "mimetype": "text/x-python",
   "name": "python",
   "nbconvert_exporter": "python",
   "pygments_lexer": "ipython3",
   "version": "3.12.8"
  }
 },
 "nbformat": 4,
 "nbformat_minor": 5
}
